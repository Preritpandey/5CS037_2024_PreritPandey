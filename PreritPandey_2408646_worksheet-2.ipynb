{
 "cells": [
  {
   "cell_type": "markdown",
   "metadata": {
    "id": "qHzBBuWrt4ct"
   },
   "source": [
    "3. To - Do - Task\n",
    "3.1 Basic Inspection and Exploration:\n",
    "Problem 1 - Data Read, Write and Inspect:"
   ]
  },
  {
   "cell_type": "markdown",
   "metadata": {
    "id": "-vle3RDuuJ8V"
   },
   "source": [
    "1. Load the provided dataset and import in pandas DataFrame"
   ]
  },
  {
   "cell_type": "code",
   "execution_count": null,
   "metadata": {
    "colab": {
     "base_uri": "https://localhost:8080/"
    },
    "executionInfo": {
     "elapsed": 5,
     "status": "ok",
     "timestamp": 1733589773956,
     "user": {
      "displayName": "Bhawana Thapa",
      "userId": "05337914937634522511"
     },
     "user_tz": -345
    },
    "id": "FdBlOY-kurKc",
    "outputId": "22467cb2-e37e-4038-ab07-c5450f96bb79"
   },
   "outputs": [
    {
     "name": "stdout",
     "output_type": "stream",
     "text": [
      "<class 'pandas.core.frame.DataFrame'>\n",
      "RangeIndex: 45211 entries, 0 to 45210\n",
      "Data columns (total 7 columns):\n",
      " #   Column    Non-Null Count  Dtype\n",
      "---  ------    --------------  -----\n",
      " 0   age       45211 non-null  int64\n",
      " 1   balance   45211 non-null  int64\n",
      " 2   day       45211 non-null  int64\n",
      " 3   duration  45211 non-null  int64\n",
      " 4   campaign  45211 non-null  int64\n",
      " 5   pdays     45211 non-null  int64\n",
      " 6   previous  45211 non-null  int64\n",
      "dtypes: int64(7)\n",
      "memory usage: 2.4 MB\n",
      "None\n"
     ]
    }
   ],
   "source": [
    "import pandas as pd\n",
    "df = pd.read_csv('/content/drive/MyDrive/Week2/Datasets-20241201T065844Z-001/Datasets/bank .csv')\n",
    "print(df.info())\n",
    "\n"
   ]
  },
  {
   "cell_type": "markdown",
   "metadata": {
    "id": "PIq78OVZwTCN"
   },
   "source": [
    " 2. Check info of the DataFrame and identify following:\n",
    " (a) columns with dtypes=object\n",
    " (b) unique values of those columns.\n",
    " (c) check for the total number of null values in each column."
   ]
  },
  {
   "cell_type": "code",
   "execution_count": null,
   "metadata": {
    "colab": {
     "base_uri": "https://localhost:8080/"
    },
    "executionInfo": {
     "elapsed": 663,
     "status": "ok",
     "timestamp": 1733589894321,
     "user": {
      "displayName": "Bhawana Thapa",
      "userId": "05337914937634522511"
     },
     "user_tz": -345
    },
    "id": "iVt5QvA5wWA-",
    "outputId": "dd8a7470-41ff-4a7f-c62c-bf27977b1ed8"
   },
   "outputs": [
    {
     "name": "stdout",
     "output_type": "stream",
     "text": [
      "\n",
      "Columns with dtype=object:\n",
      "Index([], dtype='object')\n",
      "\n",
      "Unique values in object columns:\n",
      "\n",
      "Total number of null values in each column:\n",
      "age         0\n",
      "balance     0\n",
      "day         0\n",
      "duration    0\n",
      "campaign    0\n",
      "pdays       0\n",
      "previous    0\n",
      "dtype: int64\n"
     ]
    }
   ],
   "source": [
    "# Task 2: Analyze the DataFrame\n",
    "# (a) Identify columns with dtype=object\n",
    "object_columns = df.select_dtypes(include='object').columns\n",
    "print(\"\\nColumns with dtype=object:\")\n",
    "print(object_columns)\n",
    "\n",
    "# (b) Find unique values of those columns\n",
    "print(\"\\nUnique values in object columns:\")\n",
    "for col in object_columns:\n",
    "    print(f\"{col}: {df[col].unique()}\")\n",
    "# (c) Check for null values\n",
    "print(\"\\nTotal number of null values in each column:\")\n",
    "print(df.isnull().sum())"
   ]
  },
  {
   "cell_type": "code",
   "execution_count": null,
   "metadata": {
    "colab": {
     "base_uri": "https://localhost:8080/"
    },
    "executionInfo": {
     "elapsed": 1059,
     "status": "ok",
     "timestamp": 1733589985678,
     "user": {
      "displayName": "Bhawana Thapa",
      "userId": "05337914937634522511"
     },
     "user_tz": -345
    },
    "id": "u5PvwcyAwmZQ",
    "outputId": "35419737-d784-49f2-84bc-3556326b2bfa"
   },
   "outputs": [
    {
     "name": "stdout",
     "output_type": "stream",
     "text": [
      "\n",
      "Numeric DataFrame saved as 'banknumericdata.csv'!\n",
      "\n",
      "Summary statistics of numeric data:\n",
      "                age        balance           day      duration      campaign  \\\n",
      "count  45211.000000   45211.000000  45211.000000  45211.000000  45211.000000   \n",
      "mean      40.936210    1362.272058     15.806419    258.163080      2.763841   \n",
      "std       10.618762    3044.765829      8.322476    257.527812      3.098021   \n",
      "min       18.000000   -8019.000000      1.000000      0.000000      1.000000   \n",
      "25%       33.000000      72.000000      8.000000    103.000000      1.000000   \n",
      "50%       39.000000     448.000000     16.000000    180.000000      2.000000   \n",
      "75%       48.000000    1428.000000     21.000000    319.000000      3.000000   \n",
      "max       95.000000  102127.000000     31.000000   4918.000000     63.000000   \n",
      "\n",
      "              pdays      previous  \n",
      "count  45211.000000  45211.000000  \n",
      "mean      40.197828      0.580323  \n",
      "std      100.128746      2.303441  \n",
      "min       -1.000000      0.000000  \n",
      "25%       -1.000000      0.000000  \n",
      "50%       -1.000000      0.000000  \n",
      "75%       -1.000000      0.000000  \n",
      "max      871.000000    275.000000  \n"
     ]
    }
   ],
   "source": [
    "# Task 3: Drop object dtype columns and save the new DataFrame to a .csv file\n",
    "df_numeric = df.drop(columns=object_columns)\n",
    "df_numeric.to_csv('banknumericdata.csv', index=False)\n",
    "print(\"\\nNumeric DataFrame saved as 'banknumericdata.csv'!\")\n",
    "\n",
    "# Task 4: Read the new CSV and find summary statistics\n",
    "df_numeric_loaded = pd.read_csv('banknumericdata.csv')\n",
    "print(\"\\nSummary statistics of numeric data:\")\n",
    "print(df_numeric_loaded.describe())"
   ]
  },
  {
   "cell_type": "markdown",
   "metadata": {
    "id": "2AkQa4EUxhp5"
   },
   "source": [
    " Problem 2- Data Imputations:\n",
    " • Dataset for the Task: \"medical_student.csv\"\n",
    " 1. Load the provided dataset and import in pandas DataFrame.\n",
    " 2. Check info of the DataFrame and identify column with missing (null) values.\n",
    " 3. For the column with missing values fill the values using various techniques we discussed above. Try\n",
    " to explain why did you select the particular methods for particular column.\n",
    " 4. Check for any duplicate values present in Dataset and do necessary to manage the duplicate items.\n",
    " {Hint: dataset.duplicated.sum()}"
   ]
  },
  {
   "cell_type": "code",
   "execution_count": null,
   "metadata": {
    "colab": {
     "base_uri": "https://localhost:8080/"
    },
    "executionInfo": {
     "elapsed": 2279,
     "status": "ok",
     "timestamp": 1733587393145,
     "user": {
      "displayName": "Bhawana Thapa",
      "userId": "05337914937634522511"
     },
     "user_tz": -345
    },
    "id": "IEGk8rFzxmC8",
    "outputId": "729f4ba4-4501-4b19-d08f-64e44d870a1c"
   },
   "outputs": [
    {
     "name": "stdout",
     "output_type": "stream",
     "text": [
      "<class 'pandas.core.frame.DataFrame'>\n",
      "RangeIndex: 200000 entries, 0 to 199999\n",
      "Data columns (total 13 columns):\n",
      " #   Column          Non-Null Count   Dtype  \n",
      "---  ------          --------------   -----  \n",
      " 0   Student ID      180000 non-null  float64\n",
      " 1   Age             180000 non-null  float64\n",
      " 2   Gender          180000 non-null  object \n",
      " 3   Height          180000 non-null  float64\n",
      " 4   Weight          180000 non-null  float64\n",
      " 5   Blood Type      180000 non-null  object \n",
      " 6   BMI             180000 non-null  float64\n",
      " 7   Temperature     180000 non-null  float64\n",
      " 8   Heart Rate      180000 non-null  float64\n",
      " 9   Blood Pressure  180000 non-null  float64\n",
      " 10  Cholesterol     180000 non-null  float64\n",
      " 11  Diabetes        180000 non-null  object \n",
      " 12  Smoking         180000 non-null  object \n",
      "dtypes: float64(9), object(4)\n",
      "memory usage: 19.8+ MB\n",
      "None\n",
      "Null values in each column:\n",
      "Student ID        20000\n",
      "Age               20000\n",
      "Gender            20000\n",
      "Height            20000\n",
      "Weight            20000\n",
      "Blood Type        20000\n",
      "BMI               20000\n",
      "Temperature       20000\n",
      "Heart Rate        20000\n",
      "Blood Pressure    20000\n",
      "Cholesterol       20000\n",
      "Diabetes          20000\n",
      "Smoking           20000\n",
      "dtype: int64\n"
     ]
    },
    {
     "name": "stderr",
     "output_type": "stream",
     "text": [
      "<ipython-input-17-68b956c37a5b>:14: FutureWarning: A value is trying to be set on a copy of a DataFrame or Series through chained assignment using an inplace method.\n",
      "The behavior will change in pandas 3.0. This inplace method will never work because the intermediate object on which we are setting values always behaves as a copy.\n",
      "\n",
      "For example, when doing 'df[col].method(value, inplace=True)', try using 'df.method({col: value}, inplace=True)' or df[col] = df[col].method(value) instead, to perform the operation inplace on the original object.\n",
      "\n",
      "\n",
      "  df[column].fillna(df[column].median(), inplace=True)\n",
      "<ipython-input-17-68b956c37a5b>:12: FutureWarning: A value is trying to be set on a copy of a DataFrame or Series through chained assignment using an inplace method.\n",
      "The behavior will change in pandas 3.0. This inplace method will never work because the intermediate object on which we are setting values always behaves as a copy.\n",
      "\n",
      "For example, when doing 'df[col].method(value, inplace=True)', try using 'df.method({col: value}, inplace=True)' or df[col] = df[col].method(value) instead, to perform the operation inplace on the original object.\n",
      "\n",
      "\n",
      "  df[column].fillna(df[column].mode()[0], inplace=True)\n"
     ]
    },
    {
     "name": "stdout",
     "output_type": "stream",
     "text": [
      "Missing values after imputation:\n",
      "Student ID        0\n",
      "Age               0\n",
      "Gender            0\n",
      "Height            0\n",
      "Weight            0\n",
      "Blood Type        0\n",
      "BMI               0\n",
      "Temperature       0\n",
      "Heart Rate        0\n",
      "Blood Pressure    0\n",
      "Cholesterol       0\n",
      "Diabetes          0\n",
      "Smoking           0\n",
      "dtype: int64\n",
      "Number of duplicate rows: 12879\n",
      "After removing duplicates: (187121, 13)\n"
     ]
    }
   ],
   "source": [
    "import pandas as pd\n",
    "\n",
    "#Load the dataset\n",
    "df = pd.read_csv('/content/drive/MyDrive/Week2/Datasets-20241201T065844Z-001/Datasets/medical_students_dataset.csv')\n",
    "print(df.info())\n",
    "\n",
    "#2   Identify columns with missing values\n",
    "null = df.isnull().sum()\n",
    "print(f\"Null values in each column:\\n{null}\")\n",
    "\n",
    "#3\n",
    "for column in df.columns:\n",
    "  if df[column].dtype == 'object':\n",
    "    df[column].fillna(df[column].mode()[0], inplace=True)\n",
    "  else:\n",
    "      df[column].fillna(df[column].median(), inplace=True)\n",
    "\n",
    "print(f\"Missing values after imputation:\\n{df.isnull().sum()}\")\n",
    "\n",
    "#4\n",
    "duplicate = df.duplicated().sum()\n",
    "print(f\"Number of duplicate rows: {duplicate}\")\n",
    "df.drop_duplicates(inplace=True)\n",
    "print(f\"After removing duplicates: {df.shape}\")\n",
    "\n",
    "\n",
    "\n"
   ]
  },
  {
   "cell_type": "markdown",
   "metadata": {
    "id": "spcnB1ap25Za"
   },
   "source": [
    " 3.2 Exercises- Data Cleaning and Transformations with ”Titanic Dataset”:"
   ]
  },
  {
   "cell_type": "markdown",
   "metadata": {
    "id": "rWR9oBr629J_"
   },
   "source": [
    " Dataset Used: \"titanic.csv\"\n",
    "\n",
    " Problem- 1:\n",
    " Create a DataFrame that is subsetted for the columns ’Name’, ’Pclass’, ’Sex’, ’Age’, ’Fare’, and ’Survived’.\n",
    " Retain only those rows where ’Pclass’ is equal to 1, representing first-class passengers. What is the mean,\n",
    " median, maximum value, and minimum value of the ’Fare’ column?"
   ]
  },
  {
   "cell_type": "code",
   "execution_count": null,
   "metadata": {
    "colab": {
     "base_uri": "https://localhost:8080/"
    },
    "executionInfo": {
     "elapsed": 982,
     "status": "ok",
     "timestamp": 1733587551726,
     "user": {
      "displayName": "Bhawana Thapa",
      "userId": "05337914937634522511"
     },
     "user_tz": -345
    },
    "id": "xhu7LRMD3Av9",
    "outputId": "a796777f-daf3-4ab5-9d6f-8f99a0dc2a87"
   },
   "outputs": [
    {
     "name": "stdout",
     "output_type": "stream",
     "text": [
      "Mean Fare: 84.1546875\n",
      "Median Fare: 60.287499999999994\n",
      "Maximum Fare: 512.3292\n",
      "Minimum Fare: 0.0\n"
     ]
    }
   ],
   "source": [
    "import pandas as pd\n",
    "\n",
    "# Load the dataset\n",
    "df = pd.read_csv('/content/drive/MyDrive/Week2/Datasets-20241201T065844Z-001/Datasets/Titanic-Dataset.csv')\n",
    "\n",
    "# Create a subset of the DataFrame\n",
    "df_subset = df[['Name', 'Pclass', 'Sex', 'Age', 'Fare', 'Survived']]\n",
    "\n",
    "# Retain only rows where 'Pclass' is 1\n",
    "df_subset = df_subset[df_subset['Pclass'] == 1]\n",
    "\n",
    "# Calculate statistics for the 'Fare' column\n",
    "mean_fare = df_subset['Fare'].mean()\n",
    "median_fare = df_subset['Fare'].median()\n",
    "max_fare = df_subset['Fare'].max()\n",
    "min_fare = df_subset['Fare'].min()\n",
    "\n",
    "# Print the results\n",
    "print(f\"Mean Fare: {mean_fare}\")\n",
    "print(f\"Median Fare: {median_fare}\")\n",
    "print(f\"Maximum Fare: {max_fare}\")\n",
    "print(f\"Minimum Fare: {min_fare}\")\n",
    "\n"
   ]
  },
  {
   "cell_type": "markdown",
   "metadata": {
    "id": "xbyJ6Mw23vU8"
   },
   "source": [
    " Problem- 2:\n",
    " How many null values are contained in the ’Age’ column in your subsetted DataFrame? Once you’ve found\n",
    " this out, drop them from your DataFrame."
   ]
  },
  {
   "cell_type": "code",
   "execution_count": null,
   "metadata": {
    "colab": {
     "base_uri": "https://localhost:8080/"
    },
    "executionInfo": {
     "elapsed": 582,
     "status": "ok",
     "timestamp": 1733588296068,
     "user": {
      "displayName": "Bhawana Thapa",
      "userId": "05337914937634522511"
     },
     "user_tz": -345
    },
    "id": "Te3uzdLM4Kub",
    "outputId": "1f9eda27-5cee-44b5-c5fe-12a18140c33b"
   },
   "outputs": [
    {
     "name": "stdout",
     "output_type": "stream",
     "text": [
      "Number of null values in the 'Age' column: 30\n",
      "\n",
      "First few rows of the DataFrame after dropping null values in 'Age' column:\n",
      "                                                 Name  Pclass     Sex   Age  \\\n",
      "1   Cumings, Mrs. John Bradley (Florence Briggs Th...       1  female  38.0   \n",
      "3        Futrelle, Mrs. Jacques Heath (Lily May Peel)       1  female  35.0   \n",
      "6                             McCarthy, Mr. Timothy J       1    male  54.0   \n",
      "11                           Bonnell, Miss. Elizabeth       1  female  58.0   \n",
      "23                       Sloper, Mr. William Thompson       1    male  28.0   \n",
      "\n",
      "       Fare  Survived  \n",
      "1   71.2833         1  \n",
      "3   53.1000         1  \n",
      "6   51.8625         0  \n",
      "11  26.5500         1  \n",
      "23  35.5000         1  \n"
     ]
    }
   ],
   "source": [
    "\n",
    "import pandas as pd\n",
    "\n",
    "# Load the dataset\n",
    "df = pd.read_csv('/content/drive/MyDrive/Week2/Datasets-20241201T065844Z-001/Datasets/Titanic-Dataset.csv')\n",
    "\n",
    "# Create a subset of the DataFrame\n",
    "subset_df = df[['Name','Pclass','Sex','Age','Fare','Survived']]\n",
    "\n",
    "# Retain only rows where 'Pclass' is 1\n",
    "first_class_df=subset_df[subset_df['Pclass'] == 1]\n",
    "\n",
    "# Check for null values in the 'Age' column\n",
    "null_age_count=first_class_df['Age'].isnull().sum()\n",
    "print(f\"Number of null values in the 'Age' column: {null_age_count}\")\n",
    "\n",
    "# Drop rows with null values in the 'Age' column\n",
    "firstclass_df_cleaned=first_class_df.dropna(subset=['Age'])\n",
    "print(\"\\nFirst few rows of the DataFrame after dropping null values in 'Age' column:\")\n",
    "print(firstclass_df_cleaned.head())\n",
    "\n",
    "\n",
    "\n"
   ]
  },
  {
   "cell_type": "markdown",
   "metadata": {
    "id": "uAZ1gmTt4YCT"
   },
   "source": [
    "Problem- 3:\n",
    " The ’Embarked’ column in the Titanic dataset contains categorical data representing the ports of embarka\n",
    "tion:\n",
    " • ’C’ for Cherbourg\n",
    " • ’Q’ for Queenstown\n",
    " • ’S’ for Southampton"
   ]
  },
  {
   "cell_type": "markdown",
   "metadata": {
    "id": "QdGQr7uf4ajM"
   },
   "source": [
    " Task:\n",
    " 1. Use one-hot encoding to convert the ’Embarked’ column into separate binary columns (’Embarked C’,\n",
    " ’Embarked Q’, ’Embarked S’).\n",
    "  2. Add these new columns to the original DataFrame.\n",
    " 3. Drop the original ’Embarked’ column.\n",
    " 4. Print the first few rows of the modified DataFrame to verify the changes."
   ]
  },
  {
   "cell_type": "code",
   "execution_count": null,
   "metadata": {
    "colab": {
     "base_uri": "https://localhost:8080/"
    },
    "executionInfo": {
     "elapsed": 1768,
     "status": "ok",
     "timestamp": 1733589112870,
     "user": {
      "displayName": "Bhawana Thapa",
      "userId": "05337914937634522511"
     },
     "user_tz": -345
    },
    "id": "Qp1-no754dVz",
    "outputId": "092a596f-3569-42f0-a0a0-3e5b1372d5f7"
   },
   "outputs": [
    {
     "name": "stdout",
     "output_type": "stream",
     "text": [
      "Modified DataFrame:\n",
      "   PassengerId  Survived  Pclass  \\\n",
      "0            1         0       3   \n",
      "1            2         1       1   \n",
      "2            3         1       3   \n",
      "3            4         1       1   \n",
      "4            5         0       3   \n",
      "\n",
      "                                                Name     Sex   Age  SibSp  \\\n",
      "0                            Braund, Mr. Owen Harris    male  22.0      1   \n",
      "1  Cumings, Mrs. John Bradley (Florence Briggs Th...  female  38.0      1   \n",
      "2                             Heikkinen, Miss. Laina  female  26.0      0   \n",
      "3       Futrelle, Mrs. Jacques Heath (Lily May Peel)  female  35.0      1   \n",
      "4                           Allen, Mr. William Henry    male  35.0      0   \n",
      "\n",
      "   Parch            Ticket     Fare Cabin  Embarked_C  Embarked_Q  Embarked_S  \n",
      "0      0         A/5 21171   7.2500   NaN       False       False        True  \n",
      "1      0          PC 17599  71.2833   C85        True       False       False  \n",
      "2      0  STON/O2. 3101282   7.9250   NaN       False       False        True  \n",
      "3      0            113803  53.1000  C123       False       False        True  \n",
      "4      0            373450   8.0500   NaN       False       False        True  \n"
     ]
    }
   ],
   "source": [
    "import pandas as pd\n",
    "df = pd.read_csv('/content/drive/MyDrive/Week2/Datasets-20241201T065844Z-001/Datasets/Titanic-Dataset.csv')\n",
    "# Step 1: Use one-hot encoding to convert the 'Embarked' column\n",
    "one_hot_encoded = pd.get_dummies(df['Embarked'], prefix='Embarked')\n",
    "\n",
    "# Step 2: Add the new binary columns to the original DataFrame\n",
    "df = pd.concat([df, one_hot_encoded], axis=1)\n",
    "\n",
    "# Step 3: Drop the original 'Embarked' column\n",
    "df.drop(columns=['Embarked'], inplace=True)\n",
    "\n",
    "# Step 4: Print the first few rows of the modified DataFrame\n",
    "print(\"Modified DataFrame:\")\n",
    "print(df.head())\n",
    "\n",
    "\n",
    "\n"
   ]
  },
  {
   "cell_type": "markdown",
   "metadata": {
    "id": "0W74ctTG9q2C"
   },
   "source": [
    " Problem- 4:\n",
    " Compare the mean survival rates (’Survived’) for the different groups in the ’Sex’ column. Draw a visual\n",
    "ization to show how the survival distributions vary by gender."
   ]
  },
  {
   "cell_type": "code",
   "execution_count": null,
   "metadata": {
    "colab": {
     "base_uri": "https://localhost:8080/",
     "height": 767
    },
    "executionInfo": {
     "elapsed": 1989,
     "status": "ok",
     "timestamp": 1733589367999,
     "user": {
      "displayName": "Bhawana Thapa",
      "userId": "05337914937634522511"
     },
     "user_tz": -345
    },
    "id": "jJc4NSGk9tAN",
    "outputId": "d087e80f-3e3b-482d-a640-148616082fe1"
   },
   "outputs": [
    {
     "name": "stdout",
     "output_type": "stream",
     "text": [
      "Mean Survival Rates by Gender:\n",
      "Sex\n",
      "female    0.742038\n",
      "male      0.188908\n",
      "Name: Survived, dtype: float64\n"
     ]
    },
    {
     "name": "stderr",
     "output_type": "stream",
     "text": [
      "<ipython-input-35-0399c9dc8a76>:15: FutureWarning: \n",
      "\n",
      "The `ci` parameter is deprecated. Use `errorbar=None` for the same effect.\n",
      "\n",
      "  sns.barplot(x='Sex', y='Survived', data=df, ci=None, palette='viridis')\n",
      "<ipython-input-35-0399c9dc8a76>:15: FutureWarning: \n",
      "\n",
      "Passing `palette` without assigning `hue` is deprecated and will be removed in v0.14.0. Assign the `x` variable to `hue` and set `legend=False` for the same effect.\n",
      "\n",
      "  sns.barplot(x='Sex', y='Survived', data=df, ci=None, palette='viridis')\n"
     ]
    },
    {
     "data": {
      "image/png": "[encoded data removed]",
      "text/plain": [
       "<Figure size 600x500 with 1 Axes>"
      ]
     },
     "metadata": {},
     "output_type": "display_data"
    }
   ],
   "source": [
    "import pandas as pd\n",
    "import matplotlib.pyplot as plt\n",
    "import seaborn as sns\n",
    "\n",
    "# Load the Titanic dataset\n",
    "df = pd.read_csv('/content/drive/MyDrive/Week2/Datasets-20241201T065844Z-001/Datasets/Titanic-Dataset.csv')\n",
    "\n",
    "# Step 1: Calculate the mean survival rates for different groups in the 'Sex' column\n",
    "mean_survival_rates = df.groupby('Sex')['Survived'].mean()\n",
    "print(\"Mean Survival Rates by Gender:\")\n",
    "print(mean_survival_rates)\n",
    "\n",
    "# Step 2: Visualize the survival distributions by gender\n",
    "plt.figure(figsize=(6, 5))\n",
    "sns.barplot(x='Sex', y='Survived', data=df, ci=None, palette='viridis')\n",
    "plt.title('Mean Survival Rate by Gender')\n",
    "plt.ylabel('Mean Survival Rate')\n",
    "plt.xlabel('Gender')\n",
    "plt.ylim(0, 1)\n",
    "plt.show()"
   ]
  },
  {
   "cell_type": "markdown",
   "metadata": {
    "id": "veMRj5z2_AT9"
   },
   "source": [
    " Problem- 5:\n",
    " Draw a visualization that breaks your visualization from Exercise 3 down by the port of embarkation (’Em\n",
    "barked’). In this instance, compare the ports ’C’ (Cherbourg), ’Q’ (Queenstown), and ’S’ (Southampton)."
   ]
  },
  {
   "cell_type": "code",
   "execution_count": null,
   "metadata": {
    "colab": {
     "base_uri": "https://localhost:8080/",
     "height": 434
    },
    "executionInfo": {
     "elapsed": 1295,
     "status": "ok",
     "timestamp": 1733589582248,
     "user": {
      "displayName": "Bhawana Thapa",
      "userId": "05337914937634522511"
     },
     "user_tz": -345
    },
    "id": "obl3N2Rh_DPR",
    "outputId": "cd11d4f5-fe3b-402d-9fa5-bc4d5f41f583"
   },
   "outputs": [
    {
     "data": {
      "image/png": "[encoded data removed]",
      "text/plain": [
       "<Figure size 1000x600 with 1 Axes>"
      ]
     },
     "metadata": {},
     "output_type": "display_data"
    }
   ],
   "source": [
    "import pandas as pd\n",
    "import matplotlib.pyplot\n",
    "import seaborn as sns\n",
    "\n",
    "\n",
    "# Load the Titanic dataset\n",
    "df = pd.read_csv('/content/drive/MyDrive/Week2/Datasets-20241201T065844Z-001/Datasets/Titanic-Dataset.csv')\n",
    "\n",
    "# Step 1: Calculate survival rates grouped by 'Sex' and 'Embarked'\n",
    "survival_rates = df.groupby(['Embarked', 'Sex'])['Survived'].mean().reset_index()\n",
    "\n",
    "# Step 2: Visualization - Grouped Bar Chart\n",
    "plt.figure(figsize=(10, 6))\n",
    "sns.barplot(x='Embarked', y='Survived', hue='Sex', data=survival_rates, palette='viridis')\n",
    "plt.title('Survival Rates by Gender and Port of Embarkation')\n",
    "plt.xlabel('Port of Embarkation')\n",
    "plt.ylabel('Survival Rate')\n",
    "plt.ylim(0, 1)\n",
    "plt.legend(title='Gender')\n",
    "plt.show()"
   ]
  }
 ],
 "metadata": {
  "colab": {
   "authorship_tag": "ABX9TyOeBIP+eTzbIMpKqUnlQVIq",
   "mount_file_id": "1xqb8R2ZQwXruFe4ASIFaRiPjChGo7bad",
   "provenance": []
  },
  "kernelspec": {
   "display_name": "Python 3",
   "name": "python3"
  },
  "language_info": {
   "name": "python"
  }
 },
 "nbformat": 4,
 "nbformat_minor": 0
}
